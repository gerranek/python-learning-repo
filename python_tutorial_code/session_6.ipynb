{
 "cells": [
  {
   "cell_type": "code",
   "execution_count": 2,
   "metadata": {},
   "outputs": [
    {
     "name": "stdout",
     "output_type": "stream",
     "text": [
      "https://raw.githubusercontent.com/data-to-insight/ERN-sessions/main/data/ChildCharacteristics.csv\n",
      "https://raw.githubusercontent.com/data-to-insight/ERN-sessions/main/data/ChildIdentifiers.csv\n",
      "0\n",
      "https://raw.githubusercontent.com/data-to-insight/ERN-sessions/main/data/ChildCharacteristics.csv\n",
      "1\n",
      "https://raw.githubusercontent.com/data-to-insight/ERN-sessions/main/data/ChildIdentifiers.csv\n"
     ]
    },
    {
     "ename": "KeyError",
     "evalue": "0",
     "output_type": "error",
     "traceback": [
      "\u001b[0;31m---------------------------------------------------------------------------\u001b[0m",
      "\u001b[0;31mKeyError\u001b[0m                                  Traceback (most recent call last)",
      "Cell \u001b[0;32mIn[2], line 16\u001b[0m\n\u001b[1;32m     13\u001b[0m     \u001b[38;5;28mprint\u001b[39m(i)\n\u001b[1;32m     14\u001b[0m     \u001b[38;5;28mprint\u001b[39m(v)\n\u001b[0;32m---> 16\u001b[0m dfs \u001b[38;5;241m=\u001b[39m pd\u001b[38;5;241m.\u001b[39mmerge(\u001b[43mdfs\u001b[49m\u001b[43m[\u001b[49m\u001b[38;5;241;43m0\u001b[39;49m\u001b[43m]\u001b[49m, dfs[\u001b[38;5;241m1\u001b[39m], on\u001b[38;5;241m=\u001b[39m\u001b[38;5;124m'\u001b[39m\u001b[38;5;124mLAchildID\u001b[39m\u001b[38;5;124m'\u001b[39m, how\u001b[38;5;241m=\u001b[39m\u001b[38;5;124m\"\u001b[39m\u001b[38;5;124mouter\u001b[39m\u001b[38;5;124m\"\u001b[39m)\n\u001b[1;32m     18\u001b[0m \u001b[38;5;28mprint\u001b[39m(df)\n",
      "\u001b[0;31mKeyError\u001b[0m: 0"
     ]
    }
   ],
   "source": [
    "import pandas as pd\n",
    "\n",
    "filename_1 = 'https://raw.githubusercontent.com/data-to-insight/ERN-sessions/main/data/ChildCharacteristics.csv'\n",
    "filename_2 = 'https://raw.githubusercontent.com/data-to-insight/ERN-sessions/main/data/ChildIdentifiers.csv'\n",
    "\n",
    "filepaths = [filename_1, filename_2]\n",
    "\n",
    "for filepath in filepaths:\n",
    "    print(filepath)\n",
    "\n",
    "dfs = {}\n",
    "for i, v in enumerate(filepaths):\n",
    "    print(i)\n",
    "    print(v)\n",
    "\n",
    "dfs = pd.merge(dfs[0], dfs[1], on='LAchildID', how=\"outer\")\n",
    "\n",
    "print(df)\n"
   ]
  },
  {
   "cell_type": "code",
   "execution_count": 3,
   "metadata": {},
   "outputs": [
    {
     "data": {
      "text/html": [
       "<div>\n",
       "<style scoped>\n",
       "    .dataframe tbody tr th:only-of-type {\n",
       "        vertical-align: middle;\n",
       "    }\n",
       "\n",
       "    .dataframe tbody tr th {\n",
       "        vertical-align: top;\n",
       "    }\n",
       "\n",
       "    .dataframe thead th {\n",
       "        text-align: right;\n",
       "    }\n",
       "</style>\n",
       "<table border=\"1\" class=\"dataframe\">\n",
       "  <thead>\n",
       "    <tr style=\"text-align: right;\">\n",
       "      <th></th>\n",
       "      <th>ChildId</th>\n",
       "      <th>Age first contact</th>\n",
       "      <th>Gender</th>\n",
       "      <th>Birthday</th>\n",
       "      <th>Age</th>\n",
       "      <th>CP Plan?</th>\n",
       "    </tr>\n",
       "  </thead>\n",
       "  <tbody>\n",
       "    <tr>\n",
       "      <th>0</th>\n",
       "      <td>id1</td>\n",
       "      <td>6</td>\n",
       "      <td>M</td>\n",
       "      <td>2002-01-01</td>\n",
       "      <td>5</td>\n",
       "      <td>Y</td>\n",
       "    </tr>\n",
       "    <tr>\n",
       "      <th>1</th>\n",
       "      <td>id2</td>\n",
       "      <td>12</td>\n",
       "      <td>m</td>\n",
       "      <td>2003-02-02</td>\n",
       "      <td>12</td>\n",
       "      <td>n</td>\n",
       "    </tr>\n",
       "    <tr>\n",
       "      <th>2</th>\n",
       "      <td>id3</td>\n",
       "      <td>11</td>\n",
       "      <td>F</td>\n",
       "      <td>NaT</td>\n",
       "      <td>11</td>\n",
       "      <td>N</td>\n",
       "    </tr>\n",
       "    <tr>\n",
       "      <th>3</th>\n",
       "      <td>id4</td>\n",
       "      <td>1</td>\n",
       "      <td></td>\n",
       "      <td>2023-03-03</td>\n",
       "      <td>6</td>\n",
       "      <td>No</td>\n",
       "    </tr>\n",
       "    <tr>\n",
       "      <th>4</th>\n",
       "      <td>id5</td>\n",
       "      <td>19</td>\n",
       "      <td>F</td>\n",
       "      <td>2012-01-06</td>\n",
       "      <td>2</td>\n",
       "      <td>yES</td>\n",
       "    </tr>\n",
       "  </tbody>\n",
       "</table>\n",
       "</div>"
      ],
      "text/plain": [
       "  ChildId  Age first contact Gender   Birthday  Age CP Plan?\n",
       "0     id1                  6      M 2002-01-01    5        Y\n",
       "1     id2                 12      m 2003-02-02   12        n\n",
       "2     id3                 11      F        NaT   11        N\n",
       "3     id4                  1        2023-03-03    6       No\n",
       "4     id5                 19      F 2012-01-06    2      yES"
      ]
     },
     "execution_count": 3,
     "metadata": {},
     "output_type": "execute_result"
    }
   ],
   "source": [
    "# conditionals\n",
    "\n",
    "df = pd.DataFrame({'ChildId':['id1', 'id2', 'id3', 'id4', 'id5'],\n",
    "                   'Age first contact':[6,12,11,1,19],\n",
    "                   'Gender':['M','m', 'F', '', 'F' ],\n",
    "                   'Birthday':['01/01/2002', '02/02/2003', pd.NA, '03/03/2023', '06/01/2012'],\n",
    "                   'Age':[5,12,11,6,2],\n",
    "                   'CP Plan?':['Y', 'n', 'N', 'No', 'yES'],})\n",
    "df['Birthday'] = pd.to_datetime(df['Birthday'], dayfirst=True)\n",
    "df"
   ]
  },
  {
   "cell_type": "code",
   "execution_count": 8,
   "metadata": {},
   "outputs": [
    {
     "name": "stdout",
     "output_type": "stream",
     "text": [
      "0    False\n",
      "1     True\n",
      "2     True\n",
      "3    False\n",
      "4    False\n",
      "Name: Age, dtype: bool\n",
      "  ChildId  Age first contact Gender   Birthday  Age CP Plan?\n",
      "1     id2                 12      m 2003-02-02   12        n\n",
      "2     id3                 11      F        NaT   11        N\n",
      "  ChildId  Age first contact Gender   Birthday  Age CP Plan?\n",
      "1     id2                 12      m 2003-02-02   12        n\n",
      "2     id3                 11      F        NaT   11        N\n",
      "4     id5                 19      F 2012-01-06    2      yES\n"
     ]
    }
   ],
   "source": [
    "condition  = df['Age'] >= 10\n",
    "print(condition)\n",
    "\n",
    "over_10 = df[condition]\n",
    "print(over_10)\n",
    "\n",
    "condition_2 = df['Age first contact'] >= 9\n",
    "contact_after_9 = df[condition_2]\n",
    "print(contact_after_9)\n"
   ]
  },
  {
   "cell_type": "code",
   "execution_count": 10,
   "metadata": {},
   "outputs": [
    {
     "name": "stdout",
     "output_type": "stream",
     "text": [
      "  ChildId  Age first contact Gender   Birthday  Age CP Plan?\n",
      "0     id1                  6      M 2002-01-01    5        Y\n",
      "4     id5                 19      F 2012-01-06    2      yES\n",
      "Empty DataFrame\n",
      "Columns: [ChildId, Age first contact, Gender, Birthday, Age, CP Plan?]\n",
      "Index: []\n"
     ]
    }
   ],
   "source": [
    "error_rows = df[df['Age first contact'] > df['Age']]\n",
    "print(error_rows)\n",
    "\n",
    "error_rows = df[~df['Age first contact'] > df['Age']]\n",
    "print(error_rows)\n",
    "\n"
   ]
  },
  {
   "cell_type": "code",
   "execution_count": 16,
   "metadata": {},
   "outputs": [
    {
     "name": "stdout",
     "output_type": "stream",
     "text": [
      "False\n",
      "True\n",
      "False\n"
     ]
    }
   ],
   "source": [
    "print(1 > 2)\n",
    "print (2 == 2)\n",
    "print((1 > 2) & (2 == 2))\n"
   ]
  },
  {
   "cell_type": "code",
   "execution_count": 25,
   "metadata": {},
   "outputs": [
    {
     "name": "stdout",
     "output_type": "stream",
     "text": [
      "  ChildId  Age first contact Gender Birthday  Age CP Plan?\n",
      "2     id3                 11      F      NaT   11        N\n",
      "  ChildId  Age first contact Gender   Birthday  Age CP Plan?\n",
      "0     id1                  6      M 2002-01-01    5        Y\n",
      "1     id2                 12      m 2003-02-02   12        n\n",
      "3     id4                  1        2023-03-03    6       No\n",
      "4     id5                 19      F 2012-01-06    2      yES\n",
      "  ChildId  Age first contact Gender   Birthday  Age CP Plan?\n",
      "0     id1                  6      M 2002-01-01    5        Y\n",
      "4     id5                 19      F 2012-01-06    2      yES\n"
     ]
    }
   ],
   "source": [
    "isna_condition = df['Birthday'].isna()\n",
    "print(df[isna_condition])\n",
    "\n",
    "notna_condition = df['Birthday'].notna()\n",
    "print(df[notna_condition])\n",
    "\n",
    "str_condition = df['CP Plan?'].str.lower().str.contains('y')\n",
    "print(df[str_condition])\n",
    "\n",
    "check_list = [12, 11]\n",
    "condition_11_12 = df['Age'].isin(check_list)\n"
   ]
  },
  {
   "cell_type": "code",
   "execution_count": 26,
   "metadata": {},
   "outputs": [
    {
     "name": "stdout",
     "output_type": "stream",
     "text": [
      "  ChildId  Age first contact Gender   Birthday  Age CP Plan?\n",
      "0     id1                  6      M 2002-01-01    5        Y\n",
      "1     id2                 12      m 2003-02-02   12        n\n",
      "2     id3                 11      F        NaT   11        N\n",
      "3     id4                  1        2023-03-03    6       No\n"
     ]
    }
   ],
   "source": [
    "cond_21 = df['CP Plan?'].str.lower().str.contains('n') | (df['Gender'].str.lower() == 'm')\n",
    "print(df[cond_21])\n",
    "\n"
   ]
  },
  {
   "cell_type": "code",
   "execution_count": 35,
   "metadata": {},
   "outputs": [
    {
     "name": "stdout",
     "output_type": "stream",
     "text": [
      "[1, 2, 3, 4, 5, 6, 7, 8, 9, 10]\n",
      "The number was odd\n",
      "The number is even\n",
      "2\n",
      "The number was odd\n",
      "The number is even\n",
      "The number was odd\n",
      "The number was odd\n",
      "The number is even\n",
      "The number was odd\n",
      "The number was odd\n",
      "The number is even\n",
      "The number was odd\n",
      "The number is 9\n",
      "The number is even\n",
      "The number was odd\n"
     ]
    }
   ],
   "source": [
    "numbers = list(range(1, 11))\n",
    "print(numbers)\n",
    "\n",
    "# for i in numbers:\n",
    "#     if i == 1:\n",
    "#         print('The number was 1')\n",
    "\n",
    "for i in numbers:\n",
    "    if i % 2 == 0:\n",
    "        print('The number is even')\n",
    "    if i == 2:\n",
    "        print(f'{i}')\n",
    "    elif i == 9:    # elif runs only if if's above are false\n",
    "        print('The number is 9')\n",
    "    else:\n",
    "        print('The number was odd')\n"
   ]
  },
  {
   "cell_type": "code",
   "execution_count": 40,
   "metadata": {},
   "outputs": [
    {
     "name": "stdout",
     "output_type": "stream",
     "text": [
      "The number is odd\n",
      "The number is even.\n",
      "2\n",
      "The number is odd\n",
      "The number is even.\n",
      "The number is odd\n",
      "it was greater than 6\n",
      "it was greater than 6\n",
      "it was greater than 6\n",
      "it was greater than 6\n",
      "it was greater than 6\n"
     ]
    }
   ],
   "source": [
    "numbers = list(range(1, 11))\n",
    "\n",
    "for i in numbers:\n",
    "    if i < 6:\n",
    "        if i % 2 == 0:\n",
    "            print('The number is even.')\n",
    "        if i == 2:\n",
    "            print(f'{i}')\n",
    "        elif i % 2 != 0:\n",
    "            print('The number is odd')\n",
    "    else: \n",
    "        print('it was greater than 6')\n"
   ]
  },
  {
   "cell_type": "code",
   "execution_count": 41,
   "metadata": {},
   "outputs": [
    {
     "name": "stdout",
     "output_type": "stream",
     "text": [
      "1\n",
      "2\n",
      "fizz\n",
      "4\n",
      "bang\n",
      "fizz\n",
      "7\n",
      "8\n",
      "fizz\n",
      "bang\n",
      "11\n",
      "fizz\n",
      "13\n",
      "14\n",
      "fizzbang\n",
      "16\n",
      "17\n",
      "fizz\n",
      "19\n",
      "bang\n",
      "fizz\n",
      "22\n",
      "23\n",
      "fizz\n",
      "bang\n",
      "26\n",
      "fizz\n",
      "28\n",
      "29\n",
      "fizzbang\n",
      "31\n",
      "32\n",
      "fizz\n",
      "34\n",
      "bang\n",
      "fizz\n",
      "37\n",
      "38\n",
      "fizz\n",
      "bang\n",
      "41\n",
      "fizz\n",
      "43\n",
      "44\n",
      "fizzbang\n",
      "46\n",
      "47\n",
      "fizz\n",
      "49\n",
      "bang\n",
      "fizz\n",
      "52\n",
      "53\n",
      "fizz\n",
      "bang\n",
      "56\n",
      "fizz\n",
      "58\n",
      "59\n",
      "fizzbang\n",
      "61\n",
      "62\n",
      "fizz\n",
      "64\n",
      "bang\n",
      "fizz\n",
      "67\n",
      "68\n",
      "fizz\n",
      "bang\n",
      "71\n",
      "fizz\n",
      "73\n",
      "74\n",
      "fizzbang\n",
      "76\n",
      "77\n",
      "fizz\n",
      "79\n",
      "bang\n",
      "fizz\n",
      "82\n",
      "83\n",
      "fizz\n",
      "bang\n",
      "86\n",
      "fizz\n",
      "88\n",
      "89\n",
      "fizzbang\n",
      "91\n",
      "92\n",
      "fizz\n",
      "94\n",
      "bang\n",
      "fizz\n",
      "97\n",
      "98\n",
      "fizz\n",
      "bang\n"
     ]
    }
   ],
   "source": [
    "# fizzbang\n",
    "# take all the numbers form 1-100,\n",
    "# print them, BUT if the number is divisible by 3, print fizz,\n",
    "# if it's divisible by 5 print bang\n",
    "# BUT if it's divisible by 3 & 5 rint fizzbang\n",
    "\n",
    "onehundred = list(range(1,101))\n",
    "\n",
    "for i in onehundred:\n",
    "    if (i % 3 == 0) & (i % 5 == 0):\n",
    "        print('fizzbang')\n",
    "    elif i % 3 == 0:\n",
    "        print('fizz')\n",
    "    elif i % 5 == 0:\n",
    "        print('bang')\n",
    "    else:\n",
    "        print(i)\n"
   ]
  }
 ],
 "metadata": {
  "kernelspec": {
   "display_name": "Python 3",
   "language": "python",
   "name": "python3"
  },
  "language_info": {
   "codemirror_mode": {
    "name": "ipython",
    "version": 3
   },
   "file_extension": ".py",
   "mimetype": "text/x-python",
   "name": "python",
   "nbconvert_exporter": "python",
   "pygments_lexer": "ipython3",
   "version": "3.10.13"
  }
 },
 "nbformat": 4,
 "nbformat_minor": 2
}
