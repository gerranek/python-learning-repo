{
 "cells": [
  {
   "cell_type": "code",
   "execution_count": 1,
   "metadata": {},
   "outputs": [
    {
     "name": "stdout",
     "output_type": "stream",
     "text": [
      "teal\n"
     ]
    }
   ],
   "source": [
    "# dictionaries\n",
    "\n",
    "dict_1 = {'Person 1':'William',\n",
    "          'Person 2':'Bosser'}\n",
    "\n",
    "dict_2 = {'William':'teal',\n",
    "          'Andy':'purple'}\n",
    "\n",
    "wills_col = dict_2['William']\n",
    "print(wills_col)\n"
   ]
  },
  {
   "cell_type": "code",
   "execution_count": 2,
   "metadata": {},
   "outputs": [
    {
     "name": "stdout",
     "output_type": "stream",
     "text": [
      "[1, 3, 6, 2, 6, 4, 7, 8, 3, 6]\n",
      "[1, 2, 3, 3, 4, 6, 6, 6, 7, 8]\n",
      "[8, 7, 6, 6, 6, 4, 3, 3, 2, 1]\n",
      "[8, 7, 6, 6, 6, 4, 3, 3, 2, 1]\n"
     ]
    }
   ],
   "source": [
    "num_list = [1,3,6,2,6,4,7,8,3,6]\n",
    "print(num_list)\n",
    "\n",
    "num_list.sort()\n",
    "print(num_list)\n",
    "\n",
    "num_list.reverse()\n",
    "print(num_list)\n",
    "\n",
    "num_list = [1,3,6,2,6,4,7,8,3,6]\n",
    "num_list.sort(reverse=True)\n",
    "print(num_list)\n"
   ]
  },
  {
   "cell_type": "code",
   "execution_count": 3,
   "metadata": {},
   "outputs": [
    {
     "name": "stdout",
     "output_type": "stream",
     "text": [
      "       CHILD  SEX         DOB ETHNIC            UPN  MOTHER MC_DOB\n",
      "0     566910    2  27/03/2008   WROM  D051910639385     NaN    NaN\n",
      "1     384923    2  09/09/2011   REFU  L034811502612     NaN    NaN\n",
      "2     709901    1  14/02/2013   ABAN  Y021751958510     NaN    NaN\n",
      "3     550084    2  04/05/2008   AOTH  R095578985099     NaN    NaN\n",
      "4     710229    2  15/04/2002   REFU  Z095096287583     NaN    NaN\n",
      "...      ...  ...         ...    ...            ...     ...    ...\n",
      "2670  152113    1  06/06/2003   WBRI  K096794376750     NaN    NaN\n",
      "2671  481370    2  12/02/2008   BAFR  C014150452081     NaN    NaN\n",
      "2672  791577    1  28/05/2011   WBRI  Q009369089812     NaN    NaN\n",
      "2673  238470    1  21/11/2013   AIND  P095222532769     NaN    NaN\n",
      "2674  437361    1  15/12/2012   WROM  G018001328504     NaN    NaN\n",
      "\n",
      "[2675 rows x 7 columns]\n"
     ]
    }
   ],
   "source": [
    "import pandas as pd\n",
    "\n",
    "filepath = 'https://raw.githubusercontent.com/data-to-insight/csc-validator-be-903/main/tests/fake_data/header.csv'\n",
    "\n",
    "header_903 = pd.read_csv(filepath)\n",
    "print(header_903) # this is called a dataframe\n"
   ]
  },
  {
   "cell_type": "code",
   "execution_count": 10,
   "metadata": {},
   "outputs": [
    {
     "name": "stdout",
     "output_type": "stream",
     "text": [
      "   column 1 column 2 column 3\n",
      "0         1      foo        A\n",
      "1         2      bar        B\n",
      "2         3      baz        C\n",
      "0    foo\n",
      "1    bar\n",
      "2    baz\n",
      "Name: column 2, dtype: object\n"
     ]
    }
   ],
   "source": [
    "dict_of_list = {'column 1':[1,2,3],\n",
    "                'column 2':['foo','bar','baz'],\n",
    "                'column 3':['A','B','C']}\n",
    "# print(dict_of_list)\n",
    "\n",
    "\n",
    "df_1 = pd.DataFrame(dict_of_list) # df for a dataframe\n",
    "print(df_1)\n",
    "print(df_1['column 2'])\n",
    "# the first column is the row index\n"
   ]
  },
  {
   "cell_type": "code",
   "execution_count": 11,
   "metadata": {},
   "outputs": [
    {
     "name": "stdout",
     "output_type": "stream",
     "text": [
      "   col 1 col 2 col 3\n",
      "0      1   foo     A\n",
      "1      2   bar     B\n",
      "2      3   baz     C\n"
     ]
    }
   ],
   "source": [
    "list_of_dicts = [{'col 1':1,\n",
    "                  'col 2':'foo',\n",
    "                  'col 3':'A'},\n",
    "                  {'col 1':2,\n",
    "                  'col 2':'bar',\n",
    "                  'col 3':'B'},\n",
    "                  {'col 1':3,\n",
    "                  'col 2':'baz',\n",
    "                  'col 3':'C'}]\n",
    "df_2 = pd.DataFrame(list_of_dicts)\n",
    "print(df_2)\n"
   ]
  },
  {
   "cell_type": "code",
   "execution_count": 20,
   "metadata": {},
   "outputs": [
    {
     "name": "stdout",
     "output_type": "stream",
     "text": [
      "    name  salary    job title\n",
      "0    Bob   34000     just Bob\n",
      "1    Joe   45000     Director\n",
      "2   Kyle   29000     handyman\n",
      "3  Harry   12000  bag dropper\n",
      "<class 'pandas.core.series.Series'>\n",
      "    name  salary    job title\n",
      "0    Bob   34000     just Bob\n",
      "1    Joe   45000     Director\n",
      "2   Kyle   29000     handyman\n",
      "3  Harry   12000  bag dropper\n"
     ]
    }
   ],
   "source": [
    "# exercise\n",
    "list_of_jobs = {'name':['Bob','Joe','Kyle','Harry'],\n",
    "                'salary':[34000,45000,29000,12000],\n",
    "                'job title':['just Bob','Director','handyman','bag dropper']}\n",
    "df_jobs = pd.DataFrame(list_of_jobs)\n",
    "print(df_jobs)\n",
    "print(type(df_jobs['salary']))\n",
    "\n",
    "# or the 2 steps above (first a variable, then pd dataframe) in one below:\n",
    "staff_df = pd.DataFrame({'name':['Bob','Joe','Kyle','Harry'],\n",
    "                'salary':[34000,45000,29000,12000],\n",
    "                'job title':['just Bob','Director','handyman','bag dropper']})\n",
    "print(staff_df)\n"
   ]
  },
  {
   "cell_type": "code",
   "execution_count": 16,
   "metadata": {},
   "outputs": [
    {
     "name": "stdout",
     "output_type": "stream",
     "text": [
      "<class 'pandas.core.frame.DataFrame'>\n",
      "RangeIndex: 4 entries, 0 to 3\n",
      "Data columns (total 3 columns):\n",
      " #   Column     Non-Null Count  Dtype \n",
      "---  ------     --------------  ----- \n",
      " 0   name       4 non-null      object\n",
      " 1   salary     4 non-null      int64 \n",
      " 2   job title  4 non-null      object\n",
      "dtypes: int64(1), object(2)\n",
      "memory usage: 224.0+ bytes\n",
      "None\n"
     ]
    }
   ],
   "source": [
    "print(staff_df.info()) # print info about the dataframe\n"
   ]
  },
  {
   "cell_type": "code",
   "execution_count": 18,
   "metadata": {},
   "outputs": [
    {
     "name": "stdout",
     "output_type": "stream",
     "text": [
      "    CHILD  SEX         DOB ETHNIC            UPN  MOTHER MC_DOB\n",
      "0  566910    2  27/03/2008   WROM  D051910639385     NaN    NaN\n",
      "1  384923    2  09/09/2011   REFU  L034811502612     NaN    NaN\n",
      "2  709901    1  14/02/2013   ABAN  Y021751958510     NaN    NaN\n",
      "3  550084    2  04/05/2008   AOTH  R095578985099     NaN    NaN\n",
      "4  710229    2  15/04/2002   REFU  Z095096287583     NaN    NaN\n",
      "     CHILD  SEX         DOB ETHNIC            UPN  MOTHER MC_DOB\n",
      "0   566910    2  27/03/2008   WROM  D051910639385     NaN    NaN\n",
      "1   384923    2  09/09/2011   REFU  L034811502612     NaN    NaN\n",
      "2   709901    1  14/02/2013   ABAN  Y021751958510     NaN    NaN\n",
      "3   550084    2  04/05/2008   AOTH  R095578985099     NaN    NaN\n",
      "4   710229    2  15/04/2002   REFU  Z095096287583     NaN    NaN\n",
      "5   733831    1  06/07/2013   WROM  Z005227500041     NaN    NaN\n",
      "6    69112    2  11/09/2010   ABAN  X089575916879     NaN    NaN\n",
      "7   853884    2  09/10/2004   WBRI  U096513817313     NaN    NaN\n",
      "8   634852    2  19/10/2006   WIRI  X019131453866     NaN    NaN\n",
      "9   512087    1  01/10/2003   MOTH  J091207487052     NaN    NaN\n",
      "10  503696    2  15/01/2003   WIRI  H027736847316     NaN    NaN\n",
      "11  427922    2  19/01/2004   AOTH  Q044775492446     NaN    NaN\n",
      "12  411080    1  30/07/2011   NOBT  O068405655286     NaN    NaN\n",
      "13  231934    2  09/06/2003   WIRT  T004199988970     NaN    NaN\n",
      "14  476797    2  04/10/2007   MWBA  R083882967327     NaN    NaN\n",
      "15  102639    2  18/10/2010   MWAS  U055364892356     NaN    NaN\n",
      "16  686826    2  14/12/2007   APKN  K004096761894     NaN    NaN\n",
      "17   50224    1  11/01/2003   REFU  U055331591206     NaN    NaN\n",
      "18  854701    2  12/03/2012   BOTH  A086440327879     NaN    NaN\n",
      "19  347997    2  11/03/2008   WBRI  N093608999332     NaN    NaN\n"
     ]
    }
   ],
   "source": [
    "print(header_903.head()) # print first n rows, if empty then 5 is the default value\n",
    "print(header_903.head(20))\n"
   ]
  },
  {
   "cell_type": "code",
   "execution_count": 19,
   "metadata": {},
   "outputs": [
    {
     "name": "stdout",
     "output_type": "stream",
     "text": [
      "['WROM' 'REFU' 'ABAN' 'AOTH' 'WBRI' 'WIRI' 'MOTH' 'NOBT' 'WIRT' 'MWBA'\n",
      " 'MWAS' 'APKN' 'BOTH' 'OOTH' 'WOTH' 'BCRB' 'MWBC' 'AIND' 'CHNE' 'BAFR']\n"
     ]
    }
   ],
   "source": [
    "print(header_903['ETHNIC'].unique())\n"
   ]
  },
  {
   "cell_type": "code",
   "execution_count": 23,
   "metadata": {},
   "outputs": [
    {
     "name": "stdout",
     "output_type": "stream",
     "text": [
      "120000\n",
      "The mean salary is 30000.0, the min salary is 12000.\n"
     ]
    }
   ],
   "source": [
    "salary_sum = staff_df['salary'].sum()\n",
    "print(salary_sum)\n",
    "\n",
    "salary_mean = staff_df['salary'].mean()\n",
    "salary_min = staff_df['salary'].min() # also .max()\n",
    "print(f'The mean salary is {salary_mean}, the min salary is {salary_min}.')\n"
   ]
  }
 ],
 "metadata": {
  "kernelspec": {
   "display_name": "Python 3",
   "language": "python",
   "name": "python3"
  },
  "language_info": {
   "codemirror_mode": {
    "name": "ipython",
    "version": 3
   },
   "file_extension": ".py",
   "mimetype": "text/x-python",
   "name": "python",
   "nbconvert_exporter": "python",
   "pygments_lexer": "ipython3",
   "version": "3.10.13"
  }
 },
 "nbformat": 4,
 "nbformat_minor": 2
}
