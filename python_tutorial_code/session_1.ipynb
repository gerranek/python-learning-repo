{
 "cells": [
  {
   "cell_type": "code",
   "execution_count": 8,
   "metadata": {},
   "outputs": [
    {
     "name": "stdout",
     "output_type": "stream",
     "text": [
      "11\n",
      "<class 'int'>\n"
     ]
    }
   ],
   "source": [
    "# basic commands\n",
    "num_1 = 1\n",
    "num_2 = 10\n",
    "sum_1_2 = num_1 + num_2\n",
    "print(sum_1_2)\n",
    "print(type(x))\n"
   ]
  },
  {
   "cell_type": "code",
   "execution_count": 12,
   "metadata": {},
   "outputs": [
    {
     "name": "stdout",
     "output_type": "stream",
     "text": [
      "15.0\n",
      "10.05.0\n"
     ]
    }
   ],
   "source": [
    "x = 10.0\n",
    "y = 5\n",
    "z = x + y\n",
    "print(z)\n",
    "\n",
    "a = \"10.0\"\n",
    "b = \"5.0\"\n",
    "print(a + b)\n",
    "\n"
   ]
  },
  {
   "cell_type": "code",
   "execution_count": 15,
   "metadata": {},
   "outputs": [
    {
     "name": "stdout",
     "output_type": "stream",
     "text": [
      "48\n",
      "12.56\n"
     ]
    }
   ],
   "source": [
    "# more calculations\n",
    "r = 12\n",
    "s = 4\n",
    "res = r * s\n",
    "print(res)\n",
    "\n",
    "rad = 2\n",
    "pi = 3.14\n",
    "area = pi * (rad ** 2)\n",
    "print(area)\n"
   ]
  },
  {
   "cell_type": "code",
   "execution_count": 17,
   "metadata": {},
   "outputs": [
    {
     "name": "stdout",
     "output_type": "stream",
     "text": [
      "Bob is a teacher\n",
      "My name is Bob and I am the teacher.\n"
     ]
    }
   ],
   "source": [
    "# concatinating strings\n",
    "name = \"Bob\"\n",
    "job = \"teacher\"\n",
    "the_text = name + \" is a \" + job\n",
    "print(the_text)\n",
    "\n",
    "phrase = f\"My name is {name} and I am the {job}.\"\n",
    "print(phrase)\n"
   ]
  },
  {
   "cell_type": "code",
   "execution_count": 24,
   "metadata": {},
   "outputs": [
    {
     "name": "stdout",
     "output_type": "stream",
     "text": [
      "c://desktop/data/903_header.csv\n",
      "p\n",
      "p/data/903_\n",
      ".csv\n",
      "vsc.redaeh_309/atad/potksed//:c\n"
     ]
    }
   ],
   "source": [
    "filename = \"c://desktop/data/903_header.csv\"\n",
    "print(filename)\n",
    "\n",
    "substring_1 = filename[10]\n",
    "print(substring_1)\n",
    "\n",
    "# start:stop (careful as python starts with 0, not 1)\n",
    "substring_2 = filename[10:21]\n",
    "print(substring_2)\n",
    "\n",
    "# most useful (last 4 characters):\n",
    "substring_3 = filename[-4:]\n",
    "print(substring_3)\n",
    "\n",
    "# useless but used in job interviews - reversed:\n",
    "# start:stop:step\n",
    "substring_4 = filename[-1::-1]\n",
    "print(substring_4)\n",
    "\n"
   ]
  },
  {
   "cell_type": "code",
   "execution_count": 30,
   "metadata": {},
   "outputs": [
    {
     "name": "stdout",
     "output_type": "stream",
     "text": [
      "do\n",
      "cat\n",
      "racoon\n"
     ]
    }
   ],
   "source": [
    "# exercise with strings\n",
    "slice_this_phrase = 'dog cat racoon'\n",
    "slice_1 = slice_this_phrase[0:2]\n",
    "print(slice_1)\n",
    "slice_2 = slice_this_phrase[4:7]\n",
    "print(slice_2)\n",
    "slice_3 = slice_this_phrase[8:]\n",
    "print(slice_3)\n"
   ]
  },
  {
   "cell_type": "code",
   "execution_count": 31,
   "metadata": {},
   "outputs": [
    {
     "name": "stdout",
     "output_type": "stream",
     "text": [
      "[1, 'My name is Bob and I am the teacher.', 'vsc.redaeh_309/atad/potksed//:c']\n",
      "<class 'list'>\n"
     ]
    }
   ],
   "source": [
    "# lists\n",
    "list_1 = [1, phrase, substring_4]\n",
    "print(list_1)\n",
    "print(type(list_1))\n"
   ]
  },
  {
   "cell_type": "code",
   "execution_count": 42,
   "metadata": {},
   "outputs": [
    {
     "name": "stdout",
     "output_type": "stream",
     "text": [
      "['purple', 'white', 'blue', 'red']\n"
     ]
    }
   ],
   "source": [
    "colours = ['red', 'blue', 'white', 'purple']\n",
    "# start:stop:step\n",
    "print(colours[-1::-1])\n"
   ]
  },
  {
   "cell_type": "code",
   "execution_count": 41,
   "metadata": {},
   "outputs": [
    {
     "name": "stdout",
     "output_type": "stream",
     "text": [
      "['red', 'blue', 'white', 'purple', 'teal', 'teal', 'teal', 'teal', 'teal']\n",
      "['red', 'blue', 'white', 'purple', 'teal', 'teal', 'teal', 'teal', 'teal', ['orange', 'maroon']]\n"
     ]
    }
   ],
   "source": [
    "# methods\n",
    "colours.append('teal')\n",
    "print(colours)\n",
    "\n",
    "# a list can have another list within\n",
    "colours.append(['orange','maroon'])\n",
    "print(colours)\n"
   ]
  },
  {
   "cell_type": "code",
   "execution_count": 45,
   "metadata": {},
   "outputs": [
    {
     "name": "stdout",
     "output_type": "stream",
     "text": [
      "['red', 'blue', 'white', 'purple', 'brown', 'azzuro', 'red', 'brown', 'azzuro', 'red']\n"
     ]
    }
   ],
   "source": [
    "# how to add multiple records in a list:\n",
    "colours.extend(['brown','azzuro','red']) # an item, e.g. red here, can be added multiple times\n",
    "print(colours)\n"
   ]
  }
 ],
 "metadata": {
  "kernelspec": {
   "display_name": "Python 3",
   "language": "python",
   "name": "python3"
  },
  "language_info": {
   "codemirror_mode": {
    "name": "ipython",
    "version": 3
   },
   "file_extension": ".py",
   "mimetype": "text/x-python",
   "name": "python",
   "nbconvert_exporter": "python",
   "pygments_lexer": "ipython3",
   "version": "3.10.13"
  }
 },
 "nbformat": 4,
 "nbformat_minor": 2
}
