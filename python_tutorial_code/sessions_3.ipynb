{
 "cells": [
  {
   "cell_type": "code",
   "execution_count": 3,
   "metadata": {},
   "outputs": [],
   "source": [
    "import pandas as pd\n",
    "\n",
    "# pd.DataFrame()\n",
    "\n",
    "\n"
   ]
  },
  {
   "cell_type": "code",
   "execution_count": 3,
   "metadata": {},
   "outputs": [],
   "source": [
    "filename = 'https://raw.githubusercontent.com/data-to-insight/ERN-sessions/main/data/1980%202023%20average%20house%20prices.csv'\n"
   ]
  },
  {
   "cell_type": "code",
   "execution_count": 4,
   "metadata": {},
   "outputs": [
    {
     "name": "stdout",
     "output_type": "stream",
     "text": [
      "<bound method DataFrame.info of                Name   Period  House price index All property types  \\\n",
      "0    United Kingdom  1980-01                                 10.11   \n",
      "1    United Kingdom  1980-02                                 10.11   \n",
      "2    United Kingdom  1980-03                                 10.11   \n",
      "3    United Kingdom  1980-04                                 10.51   \n",
      "4    United Kingdom  1980-05                                 10.51   \n",
      "..              ...      ...                                   ...   \n",
      "518  United Kingdom  2023-03                                148.20   \n",
      "519  United Kingdom  2023-04                                148.90   \n",
      "520  United Kingdom  2023-05                                149.50   \n",
      "521  United Kingdom  2023-06                                151.20   \n",
      "522  United Kingdom  2023-07                                152.00   \n",
      "\n",
      "     Average price All property types  \\\n",
      "0                               19273   \n",
      "1                               19273   \n",
      "2                               19273   \n",
      "3                               20044   \n",
      "4                               20044   \n",
      "..                                ...   \n",
      "518                            282548   \n",
      "519                            283871   \n",
      "520                            285053   \n",
      "521                            288281   \n",
      "522                            289824   \n",
      "\n",
      "     Percentage change (monthly) All property types  \\\n",
      "0                                              3.94   \n",
      "1                                              3.94   \n",
      "2                                              3.94   \n",
      "3                                              4.00   \n",
      "4                                              4.00   \n",
      "..                                              ...   \n",
      "518                                           -1.00   \n",
      "519                                            0.50   \n",
      "520                                            0.40   \n",
      "521                                            1.10   \n",
      "522                                            0.50   \n",
      "\n",
      "     Percentage change (yearly) All property types  \n",
      "0                                            28.59  \n",
      "1                                            28.59  \n",
      "2                                            28.59  \n",
      "3                                            24.15  \n",
      "4                                            24.15  \n",
      "..                                             ...  \n",
      "518                                           3.20  \n",
      "519                                           2.50  \n",
      "520                                           1.60  \n",
      "521                                           1.90  \n",
      "522                                           0.60  \n",
      "\n",
      "[523 rows x 6 columns]>\n"
     ]
    }
   ],
   "source": [
    "df = pd.read_csv(filename)\n",
    "\n",
    "print(df.info)\n"
   ]
  },
  {
   "cell_type": "code",
   "execution_count": 5,
   "metadata": {},
   "outputs": [
    {
     "name": "stdout",
     "output_type": "stream",
     "text": [
      "<class 'pandas.core.frame.DataFrame'>\n",
      "RangeIndex: 523 entries, 0 to 522\n",
      "Data columns (total 6 columns):\n",
      " #   Column                                          Non-Null Count  Dtype  \n",
      "---  ------                                          --------------  -----  \n",
      " 0   Name                                            523 non-null    object \n",
      " 1   Period                                          523 non-null    object \n",
      " 2   House price index All property types            523 non-null    float64\n",
      " 3   Average price All property types                523 non-null    int64  \n",
      " 4   Percentage change (monthly) All property types  523 non-null    float64\n",
      " 5   Percentage change (yearly) All property types   523 non-null    float64\n",
      "dtypes: float64(3), int64(1), object(2)\n",
      "memory usage: 24.6+ KB\n",
      "None\n"
     ]
    }
   ],
   "source": [
    "print(df.info())\n"
   ]
  },
  {
   "cell_type": "code",
   "execution_count": 10,
   "metadata": {},
   "outputs": [
    {
     "ename": "ValueError",
     "evalue": "Unit Y is not supported. Only unambiguous timedelta values durations are supported. Allowed units are 'W', 'D', 'h', 'm', 's', 'ms', 'us', 'ns'",
     "output_type": "error",
     "traceback": [
      "\u001b[0;31m---------------------------------------------------------------------------\u001b[0m",
      "\u001b[0;31mValueError\u001b[0m                                Traceback (most recent call last)",
      "Cell \u001b[0;32mIn[10], line 11\u001b[0m\n\u001b[1;32m      7\u001b[0m df[\u001b[38;5;124m'\u001b[39m\u001b[38;5;124mPeriod\u001b[39m\u001b[38;5;124m'\u001b[39m] \u001b[38;5;241m=\u001b[39m pd\u001b[38;5;241m.\u001b[39mto_datetime(df[\u001b[38;5;124m'\u001b[39m\u001b[38;5;124mPeriod\u001b[39m\u001b[38;5;124m'\u001b[39m], \u001b[38;5;28mformat\u001b[39m\u001b[38;5;241m=\u001b[39m\u001b[38;5;124m'\u001b[39m\u001b[38;5;124m%\u001b[39m\u001b[38;5;124mY-\u001b[39m\u001b[38;5;124m%\u001b[39m\u001b[38;5;124mm\u001b[39m\u001b[38;5;124m'\u001b[39m, errors\u001b[38;5;241m=\u001b[39m\u001b[38;5;124m'\u001b[39m\u001b[38;5;124mcoerce\u001b[39m\u001b[38;5;124m'\u001b[39m)\n\u001b[1;32m      9\u001b[0m df[\u001b[38;5;124m'\u001b[39m\u001b[38;5;124mAge of Data (Years)\u001b[39m\u001b[38;5;124m'\u001b[39m] \u001b[38;5;241m=\u001b[39m pd\u001b[38;5;241m.\u001b[39mto_datetime(\u001b[38;5;124m'\u001b[39m\u001b[38;5;124mtoday\u001b[39m\u001b[38;5;124m'\u001b[39m)\u001b[38;5;241m.\u001b[39mnormalize() \u001b[38;5;241m-\u001b[39m df[\u001b[38;5;124m'\u001b[39m\u001b[38;5;124mPeriod\u001b[39m\u001b[38;5;124m'\u001b[39m]\n\u001b[0;32m---> 11\u001b[0m df[\u001b[38;5;124m'\u001b[39m\u001b[38;5;124mAge of Data (Years)\u001b[39m\u001b[38;5;124m'\u001b[39m] \u001b[38;5;241m=\u001b[39m (\u001b[43mdf\u001b[49m\u001b[43m[\u001b[49m\u001b[38;5;124;43m'\u001b[39;49m\u001b[38;5;124;43mAge of Data (Years)\u001b[39;49m\u001b[38;5;124;43m'\u001b[39;49m\u001b[43m]\u001b[49m\u001b[43m \u001b[49m\u001b[38;5;241;43m/\u001b[39;49m\u001b[43m \u001b[49m\u001b[43mnp\u001b[49m\u001b[38;5;241;43m.\u001b[39;49m\u001b[43mtimedelta64\u001b[49m\u001b[43m(\u001b[49m\u001b[38;5;241;43m1\u001b[39;49m\u001b[43m,\u001b[49m\u001b[43m \u001b[49m\u001b[38;5;124;43m'\u001b[39;49m\u001b[38;5;124;43mY\u001b[39;49m\u001b[38;5;124;43m'\u001b[39;49m\u001b[43m)\u001b[49m)\u001b[38;5;241m.\u001b[39mastype(\u001b[38;5;124m'\u001b[39m\u001b[38;5;124mint\u001b[39m\u001b[38;5;124m'\u001b[39m)\n\u001b[1;32m     13\u001b[0m \u001b[38;5;28mprint\u001b[39m(df[\u001b[38;5;124m'\u001b[39m\u001b[38;5;124mAge of Data (Years)\u001b[39m\u001b[38;5;124m'\u001b[39m]\u001b[38;5;241m.\u001b[39mdtype)\n",
      "File \u001b[0;32m~/.local/lib/python3.10/site-packages/pandas/core/ops/common.py:76\u001b[0m, in \u001b[0;36m_unpack_zerodim_and_defer.<locals>.new_method\u001b[0;34m(self, other)\u001b[0m\n\u001b[1;32m     72\u001b[0m             \u001b[38;5;28;01mreturn\u001b[39;00m \u001b[38;5;28mNotImplemented\u001b[39m\n\u001b[1;32m     74\u001b[0m other \u001b[38;5;241m=\u001b[39m item_from_zerodim(other)\n\u001b[0;32m---> 76\u001b[0m \u001b[38;5;28;01mreturn\u001b[39;00m \u001b[43mmethod\u001b[49m\u001b[43m(\u001b[49m\u001b[38;5;28;43mself\u001b[39;49m\u001b[43m,\u001b[49m\u001b[43m \u001b[49m\u001b[43mother\u001b[49m\u001b[43m)\u001b[49m\n",
      "File \u001b[0;32m~/.local/lib/python3.10/site-packages/pandas/core/arraylike.py:210\u001b[0m, in \u001b[0;36mOpsMixin.__truediv__\u001b[0;34m(self, other)\u001b[0m\n\u001b[1;32m    208\u001b[0m \u001b[38;5;129m@unpack_zerodim_and_defer\u001b[39m(\u001b[38;5;124m\"\u001b[39m\u001b[38;5;124m__truediv__\u001b[39m\u001b[38;5;124m\"\u001b[39m)\n\u001b[1;32m    209\u001b[0m \u001b[38;5;28;01mdef\u001b[39;00m \u001b[38;5;21m__truediv__\u001b[39m(\u001b[38;5;28mself\u001b[39m, other):\n\u001b[0;32m--> 210\u001b[0m     \u001b[38;5;28;01mreturn\u001b[39;00m \u001b[38;5;28;43mself\u001b[39;49m\u001b[38;5;241;43m.\u001b[39;49m\u001b[43m_arith_method\u001b[49m\u001b[43m(\u001b[49m\u001b[43mother\u001b[49m\u001b[43m,\u001b[49m\u001b[43m \u001b[49m\u001b[43moperator\u001b[49m\u001b[38;5;241;43m.\u001b[39;49m\u001b[43mtruediv\u001b[49m\u001b[43m)\u001b[49m\n",
      "File \u001b[0;32m~/.local/lib/python3.10/site-packages/pandas/core/series.py:5819\u001b[0m, in \u001b[0;36mSeries._arith_method\u001b[0;34m(self, other, op)\u001b[0m\n\u001b[1;32m   5817\u001b[0m \u001b[38;5;28;01mdef\u001b[39;00m \u001b[38;5;21m_arith_method\u001b[39m(\u001b[38;5;28mself\u001b[39m, other, op):\n\u001b[1;32m   5818\u001b[0m     \u001b[38;5;28mself\u001b[39m, other \u001b[38;5;241m=\u001b[39m \u001b[38;5;28mself\u001b[39m\u001b[38;5;241m.\u001b[39m_align_for_op(other)\n\u001b[0;32m-> 5819\u001b[0m     \u001b[38;5;28;01mreturn\u001b[39;00m \u001b[43mbase\u001b[49m\u001b[38;5;241;43m.\u001b[39;49m\u001b[43mIndexOpsMixin\u001b[49m\u001b[38;5;241;43m.\u001b[39;49m\u001b[43m_arith_method\u001b[49m\u001b[43m(\u001b[49m\u001b[38;5;28;43mself\u001b[39;49m\u001b[43m,\u001b[49m\u001b[43m \u001b[49m\u001b[43mother\u001b[49m\u001b[43m,\u001b[49m\u001b[43m \u001b[49m\u001b[43mop\u001b[49m\u001b[43m)\u001b[49m\n",
      "File \u001b[0;32m~/.local/lib/python3.10/site-packages/pandas/core/base.py:1375\u001b[0m, in \u001b[0;36mIndexOpsMixin._arith_method\u001b[0;34m(self, other, op)\u001b[0m\n\u001b[1;32m   1373\u001b[0m lvalues \u001b[38;5;241m=\u001b[39m \u001b[38;5;28mself\u001b[39m\u001b[38;5;241m.\u001b[39m_values\n\u001b[1;32m   1374\u001b[0m rvalues \u001b[38;5;241m=\u001b[39m extract_array(other, extract_numpy\u001b[38;5;241m=\u001b[39m\u001b[38;5;28;01mTrue\u001b[39;00m, extract_range\u001b[38;5;241m=\u001b[39m\u001b[38;5;28;01mTrue\u001b[39;00m)\n\u001b[0;32m-> 1375\u001b[0m rvalues \u001b[38;5;241m=\u001b[39m \u001b[43mops\u001b[49m\u001b[38;5;241;43m.\u001b[39;49m\u001b[43mmaybe_prepare_scalar_for_op\u001b[49m\u001b[43m(\u001b[49m\u001b[43mrvalues\u001b[49m\u001b[43m,\u001b[49m\u001b[43m \u001b[49m\u001b[43mlvalues\u001b[49m\u001b[38;5;241;43m.\u001b[39;49m\u001b[43mshape\u001b[49m\u001b[43m)\u001b[49m\n\u001b[1;32m   1376\u001b[0m rvalues \u001b[38;5;241m=\u001b[39m ensure_wrapped_if_datetimelike(rvalues)\n\u001b[1;32m   1377\u001b[0m \u001b[38;5;28;01mif\u001b[39;00m \u001b[38;5;28misinstance\u001b[39m(rvalues, \u001b[38;5;28mrange\u001b[39m):\n",
      "File \u001b[0;32m~/.local/lib/python3.10/site-packages/pandas/core/ops/array_ops.py:575\u001b[0m, in \u001b[0;36mmaybe_prepare_scalar_for_op\u001b[0;34m(obj, shape)\u001b[0m\n\u001b[1;32m    570\u001b[0m         \u001b[38;5;28;01mreturn\u001b[39;00m TimedeltaArray(right)\n\u001b[1;32m    572\u001b[0m     \u001b[38;5;66;03m# In particular non-nanosecond timedelta64 needs to be cast to\u001b[39;00m\n\u001b[1;32m    573\u001b[0m     \u001b[38;5;66;03m#  nanoseconds, or else we get undesired behavior like\u001b[39;00m\n\u001b[1;32m    574\u001b[0m     \u001b[38;5;66;03m#  np.timedelta64(3, 'D') / 2 == np.timedelta64(1, 'D')\u001b[39;00m\n\u001b[0;32m--> 575\u001b[0m     \u001b[38;5;28;01mreturn\u001b[39;00m \u001b[43mTimedelta\u001b[49m\u001b[43m(\u001b[49m\u001b[43mobj\u001b[49m\u001b[43m)\u001b[49m\n\u001b[1;32m    577\u001b[0m \u001b[38;5;28;01mreturn\u001b[39;00m obj\n",
      "File \u001b[0;32mtimedeltas.pyx:1846\u001b[0m, in \u001b[0;36mpandas._libs.tslibs.timedeltas.Timedelta.__new__\u001b[0;34m()\u001b[0m\n",
      "\u001b[0;31mValueError\u001b[0m: Unit Y is not supported. Only unambiguous timedelta values durations are supported. Allowed units are 'W', 'D', 'h', 'm', 's', 'ms', 'us', 'ns'"
     ]
    }
   ],
   "source": [
    "# most common date format in ESCC Children Services - 01/01/2000\n",
    "# most common fime format - %d/%m/%y\n",
    "# strftime\n",
    "# %b = month but with local shortening e.g. Jan\n",
    "# %B = full month name e.g. January\n",
    "\n",
    "df['Period'] = pd.to_datetime(df['Period'], format='%Y-%m', errors='coerce')\n",
    "\n",
    "df['Age of Data (Years)'] = pd.to_datetime('today').normalize() - df['Period']\n",
    "\n",
    "df['Age of Data (Years)'] = (df['Age of Data (Years)'] / np.timedelta64(1, 'Y')).astype('int')\n",
    "\n",
    "print(df['Age of Data (Years)'].dtype)\n"
   ]
  },
  {
   "cell_type": "code",
   "execution_count": 9,
   "metadata": {},
   "outputs": [],
   "source": [
    "import numpy as np\n",
    "\n",
    "# numpy = number oriented package\n"
   ]
  },
  {
   "cell_type": "code",
   "execution_count": 4,
   "metadata": {},
   "outputs": [],
   "source": [
    "filename_2 = 'https://raw.githubusercontent.com/data-to-insight/ERN-sessions/main/data/ChildIdentifiers.csv'\n"
   ]
  },
  {
   "cell_type": "code",
   "execution_count": 5,
   "metadata": {},
   "outputs": [
    {
     "name": "stdout",
     "output_type": "stream",
     "text": [
      "     Unnamed: 0        LAchildID            UPN  FormerUPN  UPNunknown  \\\n",
      "0             0  RND000215205141  A850728973744        NaN         NaN   \n",
      "1             1  RND000824303014  A141396438491        NaN         NaN   \n",
      "2             2  RND000750143123  A929946861554        NaN         NaN   \n",
      "3             3  RND000909164501  A612330267292        NaN         NaN   \n",
      "4             4  RND000382171815  A604459366806        NaN         NaN   \n",
      "..          ...              ...            ...        ...         ...   \n",
      "327         327  RND000112711501  A465246916125        NaN         NaN   \n",
      "328         328  RND000513120794  A540014111973        NaN         NaN   \n",
      "329         329  RND000541643134  A549582689058        NaN         NaN   \n",
      "330         330  RND000404939452  A889492349196        NaN         NaN   \n",
      "331         331  RND000589802835  A877624860226        NaN         NaN   \n",
      "\n",
      "    PersonBirthDate ExpectedPersonBirthDate  GenderCurrent PersonDeathDate  \n",
      "0        2019-12-06                     NaN              1             NaN  \n",
      "1        2011-04-27                     NaN              9             NaN  \n",
      "2        2017-06-06              2019-12-06              1             NaN  \n",
      "3        2014-10-03                     NaN              0             NaN  \n",
      "4        2019-09-25                     NaN              2             NaN  \n",
      "..              ...                     ...            ...             ...  \n",
      "327      2010-07-07                     NaN              2             NaN  \n",
      "328      2018-08-14                     NaN              2             NaN  \n",
      "329      2021-12-09                     NaN             51             NaN  \n",
      "330      2013-07-23                     NaN              2             NaN  \n",
      "331      2021-10-25                     NaN              9             NaN  \n",
      "\n",
      "[332 rows x 9 columns]\n"
     ]
    }
   ],
   "source": [
    "df = pd.read_csv(filename_2)\n",
    "print(df)\n"
   ]
  },
  {
   "cell_type": "code",
   "execution_count": 7,
   "metadata": {},
   "outputs": [
    {
     "name": "stdout",
     "output_type": "stream",
     "text": [
      "           LAchildID PersonBirthDate  GenderCurrent        Age\n",
      "0    RND000215205141      2019-12-06              1   4.180822\n",
      "1    RND000824303014      2011-04-27              9  12.797260\n",
      "2    RND000750143123      2017-06-06              1   6.682192\n",
      "3    RND000909164501      2014-10-03              0   9.358904\n",
      "4    RND000382171815      2019-09-25              2   4.378082\n",
      "..               ...             ...            ...        ...\n",
      "327  RND000112711501      2010-07-07              2  13.602740\n",
      "328  RND000513120794      2018-08-14              2   5.493151\n",
      "329  RND000541643134      2021-12-09             51   2.169863\n",
      "330  RND000404939452      2013-07-23              2  10.556164\n",
      "331  RND000589802835      2021-10-25              9   2.293151\n",
      "\n",
      "[332 rows x 4 columns]\n"
     ]
    }
   ],
   "source": [
    "df = df[['LAchildID','PersonBirthDate','GenderCurrent']]\n",
    "\n",
    "df['PersonBirthDate'] = pd.to_datetime(df['PersonBirthDate'], format='%Y-%m-%d', errors='coerce')\n",
    "\n",
    "df['Age'] = pd.to_datetime('today').normalize() - df['PersonBirthDate']\n",
    "df['Age'] = (df['Age'] / pd.Timedelta('365 days'))\n",
    "\n",
    "print(df)\n"
   ]
  },
  {
   "cell_type": "code",
   "execution_count": 8,
   "metadata": {},
   "outputs": [
    {
     "name": "stdout",
     "output_type": "stream",
     "text": [
      "           LAchildID PersonBirthDate GenderCurrent        Age\n",
      "0    RND000215205141      2019-12-06          Male   4.180822\n",
      "1    RND000824303014      2011-04-27         Funny  12.797260\n",
      "2    RND000750143123      2017-06-06          Male   6.682192\n",
      "3    RND000909164501      2014-10-03       Unknown   9.358904\n",
      "4    RND000382171815      2019-09-25        Female   4.378082\n",
      "..               ...             ...           ...        ...\n",
      "327  RND000112711501      2010-07-07        Female  13.602740\n",
      "328  RND000513120794      2018-08-14        Female   5.493151\n",
      "329  RND000541643134      2021-12-09           NaN   2.169863\n",
      "330  RND000404939452      2013-07-23        Female  10.556164\n",
      "331  RND000589802835      2021-10-25         Funny   2.293151\n",
      "\n",
      "[332 rows x 4 columns]\n"
     ]
    }
   ],
   "source": [
    "gender_map = {1:'Male',\n",
    "              2:'Female',\n",
    "              0:'Unknown',\n",
    "              9:'Funny'}\n",
    "\n",
    "df['GenderCurrent'] = df['GenderCurrent'].map(gender_map)\n",
    "print(df)\n"
   ]
  },
  {
   "cell_type": "code",
   "execution_count": 10,
   "metadata": {},
   "outputs": [
    {
     "name": "stdout",
     "output_type": "stream",
     "text": [
      "0      False\n",
      "1      False\n",
      "2      False\n",
      "3      False\n",
      "4      False\n",
      "       ...  \n",
      "327    False\n",
      "328    False\n",
      "329    False\n",
      "330    False\n",
      "331    False\n",
      "Name: Age, Length: 332, dtype: bool\n"
     ]
    }
   ],
   "source": [
    "# ==\n",
    "# >\n",
    "# <\n",
    "# >=\n",
    "# <=\n",
    "# ~ - that means not, e.g. ~(df['Age'] > 18) (you will see below)\n",
    "# !=\n",
    "\n",
    "# use & and |, instead of \"and\" or \"or\" - those will mess up with your results\n",
    "\n",
    "\n",
    "over_18_condition = df['Age'] > 18\n",
    "\n",
    "# sliced_df = df['Age' > 18]\n",
    "print(over_18_condition)\n"
   ]
  },
  {
   "cell_type": "code",
   "execution_count": 11,
   "metadata": {},
   "outputs": [
    {
     "name": "stdout",
     "output_type": "stream",
     "text": [
      "           LAchildID PersonBirthDate GenderCurrent        Age\n",
      "54   RND000651029434      2005-05-19          Male  18.739726\n",
      "61   RND000235844862      2004-08-23          Male  19.476712\n",
      "69   RND000241874800      2004-08-26          Male  19.468493\n",
      "106  RND000859630907      2004-09-10          Male  19.427397\n",
      "197  RND000784759216      2004-09-01          Male  19.452055\n",
      "249  RND000385078505      2005-03-16          Male  18.915068\n",
      "288  RND000176823121      2005-07-10          Male  18.597260\n"
     ]
    }
   ],
   "source": [
    "over_18_male_cond = (df['Age'] > 18) & (df['GenderCurrent'] == 'Male')\n",
    "\n",
    "over_18_male = df[over_18_male_cond]\n",
    "print(over_18_male)\n"
   ]
  },
  {
   "cell_type": "code",
   "execution_count": 12,
   "metadata": {},
   "outputs": [
    {
     "name": "stdout",
     "output_type": "stream",
     "text": [
      "           LAchildID PersonBirthDate GenderCurrent        Age\n",
      "0    RND000215205141      2019-12-06          Male   4.180822\n",
      "2    RND000750143123      2017-06-06          Male   6.682192\n",
      "10   RND000003988611      2022-05-11          Male   1.750685\n",
      "15   RND000616439909      2020-04-06          Male   3.846575\n",
      "19   RND000958425881      2007-07-04          Male  16.613699\n",
      "..               ...             ...           ...        ...\n",
      "311  RND000605823944      2018-10-07          Male   5.345205\n",
      "316  RND000683862055      2006-01-07        Female  18.101370\n",
      "323  RND000044483554      2020-06-16          Male   3.652055\n",
      "324  RND000110305262      2022-06-13          Male   1.660274\n",
      "325  RND000174662411      2005-08-08           NaN  18.517808\n",
      "\n",
      "[105 rows x 4 columns]\n"
     ]
    }
   ],
   "source": [
    "over_18_or_male_cond = (df['Age'] > 18) | (df['GenderCurrent'] == 'Male')\n",
    "\n",
    "over_18_or_male = df[over_18_or_male_cond]\n",
    "print(over_18_or_male)\n"
   ]
  },
  {
   "cell_type": "code",
   "execution_count": 16,
   "metadata": {},
   "outputs": [
    {
     "name": "stdout",
     "output_type": "stream",
     "text": [
      "           LAchildID PersonBirthDate GenderCurrent        Age\n",
      "0    RND000215205141      2019-12-06          Male   4.180822\n",
      "1    RND000824303014      2011-04-27         Funny  12.797260\n",
      "2    RND000750143123      2017-06-06          Male   6.682192\n",
      "3    RND000909164501      2014-10-03       Unknown   9.358904\n",
      "4    RND000382171815      2019-09-25        Female   4.378082\n",
      "..               ...             ...           ...        ...\n",
      "327  RND000112711501      2010-07-07        Female  13.602740\n",
      "328  RND000513120794      2018-08-14        Female   5.493151\n",
      "329  RND000541643134      2021-12-09           NaN   2.169863\n",
      "330  RND000404939452      2013-07-23        Female  10.556164\n",
      "331  RND000589802835      2021-10-25         Funny   2.293151\n",
      "\n",
      "[243 rows x 4 columns]\n",
      "0       True\n",
      "1      False\n",
      "2       True\n",
      "3      False\n",
      "4       True\n",
      "       ...  \n",
      "327     True\n",
      "328     True\n",
      "329    False\n",
      "330     True\n",
      "331    False\n",
      "Name: GenderCurrent, Length: 332, dtype: bool\n"
     ]
    }
   ],
   "source": [
    "cond_15_or_under__or_male = (df['Age'] <= 15) | (df['GenderCurrent'].str.lower == 'male')\n",
    "df_15b_or_male = df[cond_15_or_under__or_male]\n",
    "print(df_15b_or_male)\n",
    "\n",
    "cond_6 = df['GenderCurrent'].isin(['Male', 'Female'])\n",
    "print(cond_6)\n",
    "\n",
    "cond_7 = df['GenderCurrent'].str.contains('M') & df['GenderCurrent'.notna()]\n",
    "print(cond_7)\n"
   ]
  }
 ],
 "metadata": {
  "kernelspec": {
   "display_name": "Python 3",
   "language": "python",
   "name": "python3"
  },
  "language_info": {
   "codemirror_mode": {
    "name": "ipython",
    "version": 3
   },
   "file_extension": ".py",
   "mimetype": "text/x-python",
   "name": "python",
   "nbconvert_exporter": "python",
   "pygments_lexer": "ipython3",
   "version": "3.10.13"
  }
 },
 "nbformat": 4,
 "nbformat_minor": 2
}
